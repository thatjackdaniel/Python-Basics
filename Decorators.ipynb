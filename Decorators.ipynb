{
 "cells": [
  {
   "cell_type": "code",
   "execution_count": 1,
   "id": "378abf56-4afc-451b-9600-5c8c06599aaa",
   "metadata": {},
   "outputs": [
    {
     "name": "stdout",
     "output_type": "stream",
     "text": [
      "This is the first print message\n",
      "this will also be printed\n"
     ]
    }
   ],
   "source": [
    "## inner functions: if we assign an inner function but do not call it,\n",
    "## it does not appear\n",
    "\n",
    "def outer_fun():\n",
    "    print('This is the first print message')\n",
    "\n",
    "    def inner_fun():      ## here is our inner function\n",
    "        print('This is the inner function')\n",
    "\n",
    "    print('this will also be printed')\n",
    "\n",
    "outer_fun()"
   ]
  },
  {
   "cell_type": "code",
   "execution_count": 3,
   "id": "3622466e-85c6-4c60-a671-5bbb9f64b340",
   "metadata": {},
   "outputs": [
    {
     "name": "stdout",
     "output_type": "stream",
     "text": [
      "This is the first print message\n",
      "this will also be printed\n",
      "This is the inner function\n"
     ]
    }
   ],
   "source": [
    "## inner functions if we call it after the print function, \n",
    "## it will print the inner staement AFTER the other two messages\n",
    "\n",
    "def outer_fun():\n",
    "    print('This is the first print message')\n",
    "\n",
    "    def inner_fun():      ## here is our inner function\n",
    "        print('This is the inner function')\n",
    "\n",
    "    print('this will also be printed')\n",
    "\n",
    "    inner_fun()      ## Call it Like This\n",
    "outer_fun()"
   ]
  },
  {
   "cell_type": "code",
   "execution_count": 7,
   "id": "10035e2b-782c-4cd3-bfeb-85462fbdc911",
   "metadata": {},
   "outputs": [
    {
     "name": "stdout",
     "output_type": "stream",
     "text": [
      "This is the first print message\n",
      "This is the inner function\n",
      "this will also be printed\n"
     ]
    }
   ],
   "source": [
    "## inner functions: to  call it in the  order it is defined, \n",
    "## we must call the function imeediately after assigning it like this:\n",
    "\n",
    "def outer_fun():\n",
    "    print('This is the first print message')\n",
    "\n",
    "    def inner_fun():      ## here is our inner function\n",
    "        print('This is the inner function')\n",
    "        \n",
    "    inner_fun()      ## Call it Like This\n",
    "    print('this will also be printed')\n",
    "\n",
    "outer_fun()"
   ]
  },
  {
   "cell_type": "code",
   "execution_count": 33,
   "id": "33d4bcfe-ecb5-4530-935c-89ed24c40504",
   "metadata": {},
   "outputs": [
    {
     "name": "stdout",
     "output_type": "stream",
     "text": [
      "This is the first print message\n",
      "this will also be printed\n",
      "<function outer_fun.<locals>.inner_fun at 0x0000020FFF4B3060>\n"
     ]
    }
   ],
   "source": [
    "## calling inner functions:  this kind of locates the function and ensures its where it is\n",
    "def outer_fun():\n",
    "    print('This is the first print message')\n",
    "\n",
    "    def inner_fun():      ## here is our inner function\n",
    "        print('This is the inner function')\n",
    "        \n",
    "    print('this will also be printed')\n",
    "\n",
    "    return inner_fun   ## no ()\n",
    "\n",
    "##outer_fun()\n",
    "\n",
    "\n",
    "output = outer_fun()\n",
    "print(output)"
   ]
  },
  {
   "cell_type": "code",
   "execution_count": 35,
   "id": "e11f259b-6816-4fae-beb5-798c93e9f32a",
   "metadata": {},
   "outputs": [
    {
     "data": {
      "text/plain": [
       "<function __main__.outer_fun.<locals>.inner_fun()>"
      ]
     },
     "execution_count": 35,
     "metadata": {},
     "output_type": "execute_result"
    }
   ],
   "source": [
    "output ## this works to see it later in a fast, clean way but without hexadecimal"
   ]
  },
  {
   "cell_type": "code",
   "execution_count": 37,
   "id": "cae413e3-2f54-4db3-a52d-82712f357c98",
   "metadata": {},
   "outputs": [
    {
     "name": "stdout",
     "output_type": "stream",
     "text": [
      "This is the inner function\n",
      "None\n"
     ]
    }
   ],
   "source": [
    "print(output())"
   ]
  },
  {
   "cell_type": "code",
   "execution_count": 39,
   "id": "09c50155-4d3a-4c2a-b62f-ba268cd6a24a",
   "metadata": {},
   "outputs": [
    {
     "name": "stdout",
     "output_type": "stream",
     "text": [
      "This is the inner function\n"
     ]
    }
   ],
   "source": [
    "output() ## super clean inner funtion"
   ]
  },
  {
   "cell_type": "code",
   "execution_count": 79,
   "id": "65b8d16a-f9d1-4237-aa1d-dae32c2914b9",
   "metadata": {},
   "outputs": [
    {
     "name": "stdout",
     "output_type": "stream",
     "text": [
      "<function dec.<locals>.wrapper_fun at 0x0000020F8F24D760>\n"
     ]
    }
   ],
   "source": [
    "## decorators\n",
    "\n",
    "def dec(inner_fun):\n",
    "    \n",
    "    def wrapper_fun():\n",
    "        print('I am the Wrapper')\n",
    "\n",
    "        inner_fun()\n",
    "\n",
    "    return wrapper_fun\n",
    "\n",
    "def modified_print():\n",
    "    print('This is a modified print function')\n",
    "\n",
    "z = dec(modified_print)\n",
    "print(z)"
   ]
  },
  {
   "cell_type": "code",
   "execution_count": 81,
   "id": "bb88d182-b65e-410b-a813-838383fa68a5",
   "metadata": {},
   "outputs": [
    {
     "data": {
      "text/plain": [
       "<function __main__.dec.<locals>.wrapper_fun()>"
      ]
     },
     "execution_count": 81,
     "metadata": {},
     "output_type": "execute_result"
    }
   ],
   "source": [
    "z"
   ]
  },
  {
   "cell_type": "code",
   "execution_count": 83,
   "id": "620f3066-e90f-4274-aafc-c7008dcbfe02",
   "metadata": {},
   "outputs": [
    {
     "name": "stdout",
     "output_type": "stream",
     "text": [
      "I am the Wrapper\n",
      "This is a modified print function\n"
     ]
    }
   ],
   "source": [
    "z()"
   ]
  },
  {
   "cell_type": "code",
   "execution_count": 85,
   "id": "8e75fbed-8d70-4391-af24-db3e8e7c1dfd",
   "metadata": {},
   "outputs": [
    {
     "name": "stdout",
     "output_type": "stream",
     "text": [
      "I am the Wrapper\n",
      "This is a modified print function\n"
     ]
    }
   ],
   "source": [
    "@dec\n",
    "def modified_print():\n",
    "    print('This is a modified print function')\n",
    "x  = modified_print()"
   ]
  },
  {
   "cell_type": "code",
   "execution_count": 91,
   "id": "83977c4a-e0d5-41ae-b216-66358f3df2d7",
   "metadata": {},
   "outputs": [
    {
     "name": "stdout",
     "output_type": "stream",
     "text": [
      "I am the Wrapper\n",
      "This is ANOTHER modified print message\n"
     ]
    }
   ],
   "source": [
    "@dec\n",
    "def print_2():\n",
    "    print('This is ANOTHER modified print message')\n",
    "\n",
    "c = print_2()\n",
    "    "
   ]
  },
  {
   "cell_type": "code",
   "execution_count": 122,
   "id": "ecb76cef-6b42-40cf-ab12-4b0093043d7a",
   "metadata": {},
   "outputs": [
    {
     "name": "stdout",
     "output_type": "stream",
     "text": [
      "I am the Wrapper\n",
      "Anything can be connected to the first wrapper this way like a title or a heading\n"
     ]
    }
   ],
   "source": [
    "@dec\n",
    "def print_1():\n",
    "    print('Anything can be connected to the first wrapper this way like a title or a heading')\n",
    "\n",
    "d= print_1()"
   ]
  },
  {
   "cell_type": "code",
   "execution_count": 138,
   "id": "bee2e16a-0bc6-4c0f-8f66-1508f1dcacc9",
   "metadata": {},
   "outputs": [
    {
     "name": "stdout",
     "output_type": "stream",
     "text": [
      "I am the Wrapper\n",
      "This is a modified print function\n",
      "I am the Wrapper\n",
      "This is ANOTHER modified print message\n",
      "I am the Wrapper\n",
      "Anything can be connected to the first wrapper this way like a title or a heading\n"
     ]
    }
   ],
   "source": [
    "x= modified_print(); c = print_2() ; d= print_1() \n"
   ]
  },
  {
   "cell_type": "code",
   "execution_count": 144,
   "id": "8ba71b49-6df0-49d4-a548-8e6fd8e1fab6",
   "metadata": {},
   "outputs": [
    {
     "name": "stdout",
     "output_type": "stream",
     "text": [
      "I am the Wrapper\n",
      "This is a modified print function\n",
      "I am the Wrapper\n",
      "This is ANOTHER modified print message\n",
      "I am the Wrapper\n",
      "Anything can be connected to the first wrapper this way like a title or a heading\n"
     ]
    }
   ],
   "source": [
    "y = x= modified_print(); c = print_2() ; d= print_1() "
   ]
  },
  {
   "cell_type": "code",
   "execution_count": 154,
   "id": "c0fe4e1d-5b19-47c2-a6d9-29ab103405f4",
   "metadata": {},
   "outputs": [
    {
     "name": "stdout",
     "output_type": "stream",
     "text": [
      "BMW\n",
      "KIA\n"
     ]
    }
   ],
   "source": [
    "class Car:\n",
    "    def __init__(self, model):\n",
    "        self.__model = model\n",
    "\n",
    "    @property\n",
    "    def x(self):\n",
    "        return self.__model\n",
    "\n",
    "    @x.setter\n",
    "    def model(self , model):\n",
    "        self.__model = model\n",
    "\n",
    "car1 = Car('BMW')\n",
    "print(car1.model)\n",
    "car1.model = \"KIA\"\n",
    "print(car1.model)"
   ]
  },
  {
   "cell_type": "code",
   "execution_count": 156,
   "id": "8adb731d-f734-4d3c-9d25-b2f8364268e4",
   "metadata": {},
   "outputs": [
    {
     "name": "stdout",
     "output_type": "stream",
     "text": [
      "KIA\n"
     ]
    }
   ],
   "source": [
    "print(car1.model)\n"
   ]
  },
  {
   "cell_type": "code",
   "execution_count": null,
   "id": "27459e5b-facb-4065-9484-1bc9aefeb214",
   "metadata": {},
   "outputs": [],
   "source": []
  }
 ],
 "metadata": {
  "kernelspec": {
   "display_name": "Python [conda env:base] *",
   "language": "python",
   "name": "conda-base-py"
  },
  "language_info": {
   "codemirror_mode": {
    "name": "ipython",
    "version": 3
   },
   "file_extension": ".py",
   "mimetype": "text/x-python",
   "name": "python",
   "nbconvert_exporter": "python",
   "pygments_lexer": "ipython3",
   "version": "3.12.3"
  }
 },
 "nbformat": 4,
 "nbformat_minor": 5
}
