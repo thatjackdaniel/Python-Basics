{
 "cells": [
  {
   "cell_type": "code",
   "execution_count": 2,
   "id": "1549466c-2966-408f-8284-35438b2ce820",
   "metadata": {},
   "outputs": [],
   "source": [
    "import pandas  as pd \n",
    "import numpy as np "
   ]
  },
  {
   "cell_type": "code",
   "execution_count": 6,
   "id": "5b38f383-25ad-427b-a193-56a17976848a",
   "metadata": {},
   "outputs": [
    {
     "name": "stdout",
     "output_type": "stream",
     "text": [
      "This is a printout of the series by column number:\n",
      "0    1\n",
      "1    2\n",
      "2    3\n",
      "3    7\n",
      "dtype: int32\n"
     ]
    }
   ],
   "source": [
    "np_arr = np.array([1,2,3,7])\n",
    "series_np = pd.Series(np_arr)\n",
    "print('This is a printout of the series by column number:')\n",
    "print(series_np)"
   ]
  },
  {
   "cell_type": "code",
   "execution_count": 12,
   "id": "63613868-6d40-45d8-9fe8-4b8d91bf8cd3",
   "metadata": {},
   "outputs": [
    {
     "name": "stdout",
     "output_type": "stream",
     "text": [
      "From a series list:\n",
      "0     1\n",
      "1    10\n",
      "2     3\n",
      "3     8\n",
      "dtype: int64\n"
     ]
    }
   ],
   "source": [
    "series_list = pd.Series([1,10,3,8])\n",
    "print('From a series list:')\n",
    "print(series_list)"
   ]
  },
  {
   "cell_type": "code",
   "execution_count": 52,
   "id": "30efe3f9-521c-40b0-8440-72927d830853",
   "metadata": {},
   "outputs": [
    {
     "name": "stdout",
     "output_type": "stream",
     "text": [
      "From a Dict:\n",
      "first          3\n",
      "Second       2.1\n",
      "Apple     Orange\n",
      "Name: Dict, dtype: object\n"
     ]
    }
   ],
   "source": [
    "di={'first':3,'Second':2.1,'Apple':'Orange'}\n",
    "series_dict = pd.Series(di,name= 'Dict')\n",
    "print('From a Dict:')\n",
    "print(series_dict)"
   ]
  },
  {
   "cell_type": "code",
   "execution_count": 54,
   "id": "df69bb4b-2408-42fb-bf9c-8d27dda18876",
   "metadata": {},
   "outputs": [
    {
     "name": "stdout",
     "output_type": "stream",
     "text": [
      "From a Scalar Value:\n",
      "0    10\n",
      "1    10\n",
      "2    10\n",
      "3    10\n",
      "4    10\n",
      "dtype: int64\n"
     ]
    }
   ],
   "source": [
    "scalar_value = 10\n",
    "series_scalar=pd.Series(scalar_value, index=[0,1,2,3,4])\n",
    "print('From a Scalar Value:')\n",
    "print(series_scalar)"
   ]
  },
  {
   "cell_type": "code",
   "execution_count": 56,
   "id": "a9600d0e-774f-41ff-ac82-ff143d6ff918",
   "metadata": {},
   "outputs": [
    {
     "name": "stdout",
     "output_type": "stream",
     "text": [
      "Similar to NumPy Arrays\n",
      "object\n",
      "[10 10 10 10 10]\n"
     ]
    }
   ],
   "source": [
    "print('Similar to NumPy Arrays')\n",
    "print(series_dict.dtype)\n",
    "np_arr=series_scalar.to_numpy()\n",
    "print(np_arr)"
   ]
  },
  {
   "cell_type": "code",
   "execution_count": 58,
   "id": "7e1f9328-371b-40c3-b4cc-a1817d1e1318",
   "metadata": {},
   "outputs": [
    {
     "name": "stdout",
     "output_type": "stream",
     "text": [
      "Similar to a Dictionary\n",
      "10\n",
      "Returns NaN when empty\n",
      "None\n"
     ]
    }
   ],
   "source": [
    "print('Similar to a Dictionary')\n",
    "print(series_scalar.get(4))\n",
    "print('Returns NaN when empty')\n",
    "print(series_scalar.get(5))"
   ]
  },
  {
   "cell_type": "code",
   "execution_count": 60,
   "id": "2b127e10-1d76-4101-9f0a-763d177803c3",
   "metadata": {},
   "outputs": [
    {
     "name": "stdout",
     "output_type": "stream",
     "text": [
      "(3,)\n",
      "1\n",
      "3\n",
      "[3 2.1 'Orange']\n",
      "Index(['first', 'Second', 'Apple'], dtype='object')\n",
      "Dict\n"
     ]
    }
   ],
   "source": [
    "print(series_dict.shape)\n",
    "print(series_dict.ndim)\n",
    "print(series_dict.size)\n",
    "print(series_dict.values)\n",
    "print(series_dict.index)\n",
    "print(series_dict.name)\n"
   ]
  },
  {
   "cell_type": "code",
   "execution_count": null,
   "id": "6e7d7055-3e84-4f9c-afaf-1992ed35fc46",
   "metadata": {},
   "outputs": [],
   "source": []
  }
 ],
 "metadata": {
  "kernelspec": {
   "display_name": "Python 3 (ipykernel)",
   "language": "python",
   "name": "python3"
  },
  "language_info": {
   "codemirror_mode": {
    "name": "ipython",
    "version": 3
   },
   "file_extension": ".py",
   "mimetype": "text/x-python",
   "name": "python",
   "nbconvert_exporter": "python",
   "pygments_lexer": "ipython3",
   "version": "3.12.3"
  }
 },
 "nbformat": 4,
 "nbformat_minor": 5
}
