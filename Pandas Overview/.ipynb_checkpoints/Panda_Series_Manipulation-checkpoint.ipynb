{
 "cells": [
  {
   "cell_type": "code",
   "execution_count": 44,
   "id": "1b24925f-80b7-49b9-9754-82878e788f77",
   "metadata": {},
   "outputs": [],
   "source": [
    "import pandas as pd"
   ]
  },
  {
   "cell_type": "code",
   "execution_count": 46,
   "id": "b252f90e-2ca4-4239-afbe-55d29122bef0",
   "metadata": {},
   "outputs": [
    {
     "name": "stdout",
     "output_type": "stream",
     "text": [
      "2            1\n",
      "key          5\n",
      "door    window\n",
      "dtype: object\n"
     ]
    }
   ],
   "source": [
    "di={'2':1,'key':5,'door':'window'}\n",
    "series_dict = pd.Series(di)\n",
    "print(series_dict)"
   ]
  },
  {
   "cell_type": "markdown",
   "id": "9feb0442-6858-45d2-8a90-4055a23a333a",
   "metadata": {},
   "source": [
    "## index"
   ]
  },
  {
   "cell_type": "code",
   "execution_count": 49,
   "id": "fb271cba-b3f1-4116-9980-7f2c78d8d295",
   "metadata": {},
   "outputs": [
    {
     "name": "stdout",
     "output_type": "stream",
     "text": [
      "5\n",
      "5\n"
     ]
    },
    {
     "name": "stderr",
     "output_type": "stream",
     "text": [
      "C:\\Users\\admin\\AppData\\Local\\Temp\\ipykernel_21020\\1395658810.py:2: FutureWarning: Series.__getitem__ treating keys as positions is deprecated. In a future version, integer keys will always be treated as labels (consistent with DataFrame behavior). To access a value by position, use `ser.iloc[pos]`\n",
      "  print(series_dict[1])\n"
     ]
    }
   ],
   "source": [
    "print(series_dict['key']) ## this one should pop an error\n",
    "print(series_dict[1])"
   ]
  },
  {
   "cell_type": "code",
   "execution_count": 51,
   "id": "cf64cedd-1b53-4620-9876-fd575d80da03",
   "metadata": {},
   "outputs": [
    {
     "name": "stdout",
     "output_type": "stream",
     "text": [
      "2         42\n",
      "key       10\n",
      "door    knob\n",
      "dtype: object\n"
     ]
    }
   ],
   "source": [
    "series_dict['key'] =10\n",
    "series_dict['2'] =42\n",
    "series_dict['door'] ='knob'\n",
    "\n",
    "print(series_dict)\n"
   ]
  },
  {
   "cell_type": "code",
   "execution_count": 53,
   "id": "bafe8beb-ac0c-4c5c-b927-c38f57f76d01",
   "metadata": {},
   "outputs": [
    {
     "name": "stdout",
     "output_type": "stream",
     "text": [
      "2      42\n",
      "key    10\n",
      "dtype: object\n"
     ]
    },
    {
     "name": "stderr",
     "output_type": "stream",
     "text": [
      "C:\\Users\\admin\\AppData\\Local\\Temp\\ipykernel_21020\\2763512432.py:1: FutureWarning: Series.__getitem__ treating keys as positions is deprecated. In a future version, integer keys will always be treated as labels (consistent with DataFrame behavior). To access a value by position, use `ser.iloc[pos]`\n",
      "  print(series_dict[[0,1]])\n"
     ]
    }
   ],
   "source": [
    "print(series_dict[[0,1]])\n"
   ]
  },
  {
   "cell_type": "code",
   "execution_count": 55,
   "id": "09df38fb-2ece-44d3-8997-f457c08bd33f",
   "metadata": {},
   "outputs": [
    {
     "name": "stdout",
     "output_type": "stream",
     "text": [
      "2    42\n",
      "dtype: object\n"
     ]
    }
   ],
   "source": [
    "print(series_dict.iloc[0:1])"
   ]
  },
  {
   "cell_type": "markdown",
   "id": "70836668-b790-4dfb-8a0b-2b104a35faf1",
   "metadata": {},
   "source": [
    " ## notice this is using a slice which means it grabs like this:\n",
    " ### a('2') to(:) z('key') where a = the first row you want to pull\n",
    " ### and z = the last row you want to pull"
   ]
  },
  {
   "cell_type": "code",
   "execution_count": 58,
   "id": "b418f808-d17e-49de-80c3-5e50ed66c12b",
   "metadata": {},
   "outputs": [
    {
     "name": "stdout",
     "output_type": "stream",
     "text": [
      "2      42\n",
      "key    10\n",
      "dtype: object\n"
     ]
    }
   ],
   "source": [
    "print(series_dict.loc['2':'key'])"
   ]
  },
  {
   "cell_type": "markdown",
   "id": "cec8bde0-22c5-4e4a-a0ba-11914b4b0e8b",
   "metadata": {},
   "source": [
    "# Drop elements from series"
   ]
  },
  {
   "cell_type": "code",
   "execution_count": 61,
   "id": "b0bf5722-885d-456a-8801-4b6a713ae686",
   "metadata": {},
   "outputs": [
    {
     "data": {
      "text/plain": [
       "key       10\n",
       "door    knob\n",
       "dtype: object"
      ]
     },
     "execution_count": 61,
     "metadata": {},
     "output_type": "execute_result"
    }
   ],
   "source": [
    "series_dict.drop(labels= '2')"
   ]
  },
  {
   "cell_type": "code",
   "execution_count": 63,
   "id": "0be92f11-bcb7-4c8b-b0f2-18a8c59c39d6",
   "metadata": {},
   "outputs": [
    {
     "name": "stdout",
     "output_type": "stream",
     "text": [
      "2         42\n",
      "key       10\n",
      "door    knob\n",
      "dtype: object\n"
     ]
    }
   ],
   "source": [
    "print(series_dict)"
   ]
  },
  {
   "cell_type": "code",
   "execution_count": 65,
   "id": "0bcd9f45-e95f-490e-9cc3-516b92d6bf51",
   "metadata": {},
   "outputs": [
    {
     "name": "stdout",
     "output_type": "stream",
     "text": [
      "key       10\n",
      "door    knob\n",
      "dtype: object\n"
     ]
    }
   ],
   "source": [
    "series_dict.drop(labels= '2', inplace=True) \n",
    "print(series_dict)"
   ]
  },
  {
   "cell_type": "code",
   "execution_count": 83,
   "id": "45a3dc66-a100-4865-b53d-7bc0bf7d3149",
   "metadata": {},
   "outputs": [
    {
     "name": "stdout",
     "output_type": "stream",
     "text": [
      "Adding Series Together -- sigh so much easier than the old way:\n",
      "0    11\n",
      "1     8\n",
      "2     7\n",
      "dtype: int64\n"
     ]
    }
   ],
   "source": [
    "## finding the sums of multiple colums at once\n",
    "print('Adding Series Together -- sigh so much easier than the old way:')\n",
    "series_1=pd.Series([1,5,2])\n",
    "series_2=pd.Series([10,3,5])\n",
    "\n",
    "print(series_1.add(series_2))"
   ]
  },
  {
   "cell_type": "code",
   "execution_count": 100,
   "id": "d7b77af9-74af-436b-a78a-002f02b7eb09",
   "metadata": {},
   "outputs": [
    {
     "name": "stdout",
     "output_type": "stream",
     "text": [
      "0   -9\n",
      "1    2\n",
      "2   -3\n",
      "dtype: int64\n"
     ]
    }
   ],
   "source": [
    "series_1_2 = (series_1.sub(series_2))\n",
    "print(series_1_2)"
   ]
  },
  {
   "cell_type": "code",
   "execution_count": 102,
   "id": "264ec6ff-78f4-4cc1-bf2d-e63d32d63b46",
   "metadata": {},
   "outputs": [
    {
     "name": "stdout",
     "output_type": "stream",
     "text": [
      "0    1\n",
      "1    5\n",
      "2    2\n",
      "dtype: int64\n"
     ]
    }
   ],
   "source": [
    "print(series_1)"
   ]
  },
  {
   "cell_type": "code",
   "execution_count": null,
   "id": "02b11f29-ffa1-4449-aab9-4108fdcd8dab",
   "metadata": {},
   "outputs": [],
   "source": []
  }
 ],
 "metadata": {
  "kernelspec": {
   "display_name": "Python 3 (ipykernel)",
   "language": "python",
   "name": "python3"
  },
  "language_info": {
   "codemirror_mode": {
    "name": "ipython",
    "version": 3
   },
   "file_extension": ".py",
   "mimetype": "text/x-python",
   "name": "python",
   "nbconvert_exporter": "python",
   "pygments_lexer": "ipython3",
   "version": "3.12.3"
  }
 },
 "nbformat": 4,
 "nbformat_minor": 5
}
