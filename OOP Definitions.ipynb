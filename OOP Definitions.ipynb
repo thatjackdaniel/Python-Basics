{
 "cells": [
  {
   "cell_type": "markdown",
   "id": "11ba7ffb-7798-499b-aee5-b897e7f745f0",
   "metadata": {},
   "source": [
    "# OOP Definitions\n",
    "\n",
    "## CLASSES & OBJECTS \n",
    "\n",
    "### Classes:\n",
    "####     The blueprint of the objects. The main classification over multiple objects\n",
    "\n",
    "### Objects:\n",
    "####     The actual entity that we ineract with. The instacne of a class. \n",
    "\n",
    "### Example:\n",
    "####    Class: Dog \n",
    "####    Object: 2yrs, Blk, German Breed\n"
   ]
  },
  {
   "cell_type": "markdown",
   "id": "bdd2fce5-c137-4062-9069-caa35c9d65d7",
   "metadata": {},
   "source": [
    "## ATTRIBUTE & METHOD:\n",
    "\n",
    "### ATTRIBUTE:\n",
    "####     The Object characteristic.\n",
    "\n",
    "### METHOD:\n",
    "####     The actions (funtions) that the object can do.\n",
    "\n",
    "### Example:\n",
    "####    ATTRIBUTE: color, length, age, etc..\n",
    "####    METHOD: flying, eating, running etc..\n"
   ]
  },
  {
   "cell_type": "code",
   "execution_count": null,
   "id": "65bccfca-4f2e-41cc-bb64-aff0699cda9f",
   "metadata": {},
   "outputs": [],
   "source": []
  }
 ],
 "metadata": {
  "kernelspec": {
   "display_name": "Python 3 (ipykernel)",
   "language": "python",
   "name": "python3"
  },
  "language_info": {
   "codemirror_mode": {
    "name": "ipython",
    "version": 3
   },
   "file_extension": ".py",
   "mimetype": "text/x-python",
   "name": "python",
   "nbconvert_exporter": "python",
   "pygments_lexer": "ipython3",
   "version": "3.12.3"
  }
 },
 "nbformat": 4,
 "nbformat_minor": 5
}
