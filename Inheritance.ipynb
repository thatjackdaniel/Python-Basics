{
 "cells": [
  {
   "cell_type": "code",
   "execution_count": 9,
   "id": "5132b26c-a434-48bf-9ab2-76a3271119fa",
   "metadata": {},
   "outputs": [
    {
     "name": "stdout",
     "output_type": "stream",
     "text": [
      "I am a vehicle\n"
     ]
    }
   ],
   "source": [
    "class Vehicle:\n",
    "    def __init__(self, model, year):\n",
    "        self.model = model ## Keeping this secret for user\n",
    "        self.year = year\n",
    "\n",
    "    def print_veh(self):\n",
    "        print('I am a vehicle')\n",
    "\n",
    "\n",
    "class Car(Vehicle):\n",
    "    pass\n",
    "\n",
    "car1 = Car('BMW', 2024)\n",
    "car1.print_veh()"
   ]
  },
  {
   "cell_type": "code",
   "execution_count": 27,
   "id": "e5c32207-91e2-4d74-ac0c-f7a6205eac9d",
   "metadata": {},
   "outputs": [
    {
     "name": "stdout",
     "output_type": "stream",
     "text": [
      "I am a car\n"
     ]
    }
   ],
   "source": [
    "class Vehicle:\n",
    "    def __init__(self, model, year):\n",
    "        self.model = model ## Keeping this secret for user\n",
    "        self.year = year\n",
    "\n",
    "    def print_veh(self):\n",
    "        print('I am a vehicle')\n",
    "\n",
    "class Car(Vehicle):\n",
    "    def print_veh(self):\n",
    "        print('I am a car')\n",
    "\n",
    "car1 = Car('BMW', 2024)\n",
    "car1.print_veh()"
   ]
  },
  {
   "cell_type": "code",
   "execution_count": 31,
   "id": "69c56ec4-3b35-4a3b-a730-d18a4c68d37a",
   "metadata": {},
   "outputs": [
    {
     "name": "stdout",
     "output_type": "stream",
     "text": [
      "16000.0\n"
     ]
    }
   ],
   "source": [
    "class Vehicle:\n",
    "    def __init__(self, price):\n",
    "        self.price = price ## Keeping this secret for user\n",
    "       \n",
    "    def print_veh(self):\n",
    "        print('I am a vehicle')\n",
    "\n",
    "class Car(Vehicle):\n",
    "    def print_veh(self):\n",
    "        print('I am a car')\n",
    "\n",
    "    def discount(self, price, dis):\n",
    "        self.price = price*(1 - dis)\n",
    "car1 = Car(20000)\n",
    "car1.discount(car1.price, 0.2)\n",
    "print(car1.price)"
   ]
  },
  {
   "cell_type": "code",
   "execution_count": null,
   "id": "4e4dbf3f-101c-4eca-ae58-712f9fb6104c",
   "metadata": {},
   "outputs": [],
   "source": []
  }
 ],
 "metadata": {
  "kernelspec": {
   "display_name": "Python [conda env:base] *",
   "language": "python",
   "name": "conda-base-py"
  },
  "language_info": {
   "codemirror_mode": {
    "name": "ipython",
    "version": 3
   },
   "file_extension": ".py",
   "mimetype": "text/x-python",
   "name": "python",
   "nbconvert_exporter": "python",
   "pygments_lexer": "ipython3",
   "version": "3.12.3"
  }
 },
 "nbformat": 4,
 "nbformat_minor": 5
}
