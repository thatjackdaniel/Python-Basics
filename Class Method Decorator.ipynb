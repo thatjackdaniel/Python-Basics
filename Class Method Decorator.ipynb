{
 "cells": [
  {
   "cell_type": "code",
   "execution_count": 2,
   "id": "2c37bd15-b4e6-4c2c-845d-0fd22c5920d1",
   "metadata": {},
   "outputs": [
    {
     "name": "stdout",
     "output_type": "stream",
     "text": [
      "We have: 1 cars\n",
      "KIA\n",
      "We have: 2 cars\n"
     ]
    }
   ],
   "source": [
    "class Car:\n",
    "    cars_count = 0\n",
    "    def __init__(self, model):\n",
    "        self.__model = model\n",
    "        Car.cars_count = Car.cars_count + 1\n",
    "\n",
    "    @property\n",
    "    def x(self):\n",
    "        return self.__model\n",
    "\n",
    "    @x.setter\n",
    "    def model(self , model):\n",
    "        self.__model = model\n",
    "\n",
    "    @classmethod\n",
    "    def countcars(car_class):\n",
    "        print('We have:', car_class.cars_count , 'cars')\n",
    "\n",
    "car1 = Car('BMW')\n",
    "car1.countcars()\n",
    "car1.model = \"KIA\"\n",
    "print(car1.model)\n",
    "\n",
    "car2 = Car('Chevy')\n",
    "Car.countcars()"
   ]
  },
  {
   "cell_type": "code",
   "execution_count": 4,
   "id": "325a74bb-25d8-43c8-b66b-c05b078cd6ea",
   "metadata": {},
   "outputs": [],
   "source": [
    "## static method decorator"
   ]
  },
  {
   "cell_type": "code",
   "execution_count": 24,
   "id": "9301eae9-1fd3-48c6-a211-03ab6fde3cc5",
   "metadata": {},
   "outputs": [
    {
     "name": "stdout",
     "output_type": "stream",
     "text": [
      "BMW\n",
      "Your car model is: BMW\n",
      "We have: 1 cars\n",
      "None\n",
      "PEEEEEEP!\n",
      "PEEEEEEP!\n"
     ]
    }
   ],
   "source": [
    "class Car:\n",
    "    cars_count = 0\n",
    "    def __init__(self, model):\n",
    "        self.__model = model\n",
    "        Car.cars_count +=1\n",
    "    ## Setting & Getting (setters and getters)\n",
    "    @property\n",
    "    def model(self):\n",
    "        return self.__model\n",
    "\n",
    "    @model.setter\n",
    "    def model(self,model):\n",
    "        self.__model = model\n",
    "    ## access to nothing\n",
    "    @staticmethod\n",
    "    def peep():\n",
    "        print('PEEEEEEP!')\n",
    "    ## access to only the class\n",
    "    @classmethod\n",
    "    def countcars(car_class):\n",
    "        print('We have:', car_class.cars_count, 'cars')\n",
    "        \n",
    "    ## Normal acces to both the class and the object\n",
    "    def print_car_model(self):\n",
    "        print('Your car model is:', self.__model)\n",
    "        print('We have:', self.cars_count, 'cars')\n",
    "        \n",
    "        \n",
    "car1 = Car('BMW')\n",
    "print(car1.model) \n",
    "print(car1.print_car_model()) # calls normal access to clas and object\n",
    "car1.peep()\n",
    "Car.peep()"
   ]
  },
  {
   "cell_type": "code",
   "execution_count": 20,
   "id": "c4bd4f37-c8f9-4959-9461-04150eb75d5e",
   "metadata": {},
   "outputs": [
    {
     "data": {
      "text/plain": [
       "<function __main__.Car.print_car_model(self)>"
      ]
     },
     "execution_count": 20,
     "metadata": {},
     "output_type": "execute_result"
    }
   ],
   "source": []
  },
  {
   "cell_type": "code",
   "execution_count": null,
   "id": "90b95e98-0e06-4e64-9884-30f6e05815f2",
   "metadata": {},
   "outputs": [],
   "source": []
  }
 ],
 "metadata": {
  "kernelspec": {
   "display_name": "Python [conda env:base] *",
   "language": "python",
   "name": "conda-base-py"
  },
  "language_info": {
   "codemirror_mode": {
    "name": "ipython",
    "version": 3
   },
   "file_extension": ".py",
   "mimetype": "text/x-python",
   "name": "python",
   "nbconvert_exporter": "python",
   "pygments_lexer": "ipython3",
   "version": "3.12.3"
  }
 },
 "nbformat": 4,
 "nbformat_minor": 5
}
