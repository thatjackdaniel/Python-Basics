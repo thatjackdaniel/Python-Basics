{
 "cells": [
  {
   "cell_type": "markdown",
   "id": "07fe0b44-fe2d-42e8-a339-d92a93d5819d",
   "metadata": {},
   "source": [
    "# create your first class\n",
    "\n",
    "## Self Keyword\n",
    "####     You when you initialize two or more objects in the same class, Python needs a way to differentiate between them\n",
    "####     Self is the way to do so\n",
    "####     it is a pointer to the memory address where each object of the class is stored."
   ]
  },
  {
   "cell_type": "markdown",
   "id": "b8a81815-30cc-4a2c-b28b-e153574aa075",
   "metadata": {},
   "source": [
    "## Class Keyword\n",
    "####     We define a class using a keyword\n",
    "####     It is a convention to us CapitalName for the class\n"
   ]
  },
  {
   "cell_type": "code",
   "execution_count": null,
   "id": "517215d2-0e98-4f16-9b2d-deb0b0341c8b",
   "metadata": {},
   "outputs": [],
   "source": [
    "## INIT METHOD\n",
    "####     This method stores the inital values for all of the instance attributes.\n",
    "####     it must be created like this: \n",
    "_init_()\n",
    "####     The first argument must be self\n",
    "####     The attributes are accessed using the dot."
   ]
  },
  {
   "cell_type": "code",
   "execution_count": 21,
   "id": "2d0e683e-f123-4f3f-b343-18cbcdf66024",
   "metadata": {},
   "outputs": [
    {
     "name": "stdout",
     "output_type": "stream",
     "text": [
      "False\n",
      "yellow\n"
     ]
    }
   ],
   "source": [
    "class Car:\n",
    "    def __init__(self, color, year, model):\n",
    "        self.color =color\n",
    "        self.year = year\n",
    "        self.model = model\n",
    "    number_of_Wheels = 4\n",
    "car1 = Car('yellow',2010,'BMW')\n",
    "car2 = Car('yellow',2010,'BMW')\n",
    "print(car1 ==car2)\n",
    "print(car1.color)"
   ]
  },
  {
   "cell_type": "code",
   "execution_count": 25,
   "id": "78486dbb-cb70-4d75-95ad-f4ca52a28c39",
   "metadata": {},
   "outputs": [
    {
     "data": {
      "text/plain": [
       "4"
      ]
     },
     "execution_count": 25,
     "metadata": {},
     "output_type": "execute_result"
    }
   ],
   "source": [
    "class Car:\n",
    "    def __init__(self, model, year, price):\n",
    "        self.model =model\n",
    "        self.year = year\n",
    "        self.price = price\n",
    "    number_of_Wheels = 4\n",
    "first_car= Car('nissan',2014,10000)\n",
    "second_car = Car('BMW',2009,20000)\n",
    "first_car.number_of_Wheels"
   ]
  },
  {
   "cell_type": "markdown",
   "id": "5601a779-05cb-4e12-ab0c-5f082c1e2a71",
   "metadata": {},
   "source": [
    "## functions"
   ]
  },
  {
   "cell_type": "code",
   "execution_count": 30,
   "id": "a71d7ea3-e3c1-4136-8bd0-1f5fe0bec729",
   "metadata": {},
   "outputs": [
    {
     "name": "stdout",
     "output_type": "stream",
     "text": [
      "Hello from the outer function!\n",
      "Hello form the inner function!\n"
     ]
    }
   ],
   "source": [
    "def outer_fun():\n",
    "    print('Hello from the outer function!')\n",
    "    def inner_fun():\n",
    "        print('Hello form the inner function!')\n",
    "    inner_fun()\n",
    "\n",
    "outer_fun()"
   ]
  },
  {
   "cell_type": "code",
   "execution_count": 38,
   "id": "affc62a5-fdcf-47e8-9153-6c272c030e07",
   "metadata": {},
   "outputs": [
    {
     "name": "stdout",
     "output_type": "stream",
     "text": [
      "Hello from the outer function!\n",
      "<function outer_fun.<locals>.second_inner_fun at 0x000001E9FE75AD40>\n",
      "Hello from the 2nd inner function!\n",
      "None\n"
     ]
    }
   ],
   "source": [
    "def outer_fun(which_fun):\n",
    "    print('Hello from the outer function!')\n",
    "    def first_inner_fun():\n",
    "        print('Hello form the 1st inner function!')\n",
    "    def second_inner_fun():\n",
    "        print('Hello from the 2nd inner function!')\n",
    "\n",
    "    if which_fun==1:\n",
    "        return first_inner_fun\n",
    "    if which_fun==2:\n",
    "        return second_inner_fun\n",
    "        \n",
    "x=outer_fun(2)\n",
    "print(x)\n",
    "print(x())"
   ]
  },
  {
   "cell_type": "code",
   "execution_count": null,
   "id": "797ab186-0805-4f2c-8e41-dc08807766a0",
   "metadata": {},
   "outputs": [],
   "source": []
  }
 ],
 "metadata": {
  "kernelspec": {
   "display_name": "Python [conda env:base] *",
   "language": "python",
   "name": "conda-base-py"
  },
  "language_info": {
   "codemirror_mode": {
    "name": "ipython",
    "version": 3
   },
   "file_extension": ".py",
   "mimetype": "text/x-python",
   "name": "python",
   "nbconvert_exporter": "python",
   "pygments_lexer": "ipython3",
   "version": "3.12.3"
  }
 },
 "nbformat": 4,
 "nbformat_minor": 5
}
