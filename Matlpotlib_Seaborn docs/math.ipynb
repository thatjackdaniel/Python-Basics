{
 "cells": [
  {
   "cell_type": "code",
   "execution_count": 7,
   "id": "7ba84d5a-f8ca-4968-8236-4e6b35b8e0b7",
   "metadata": {},
   "outputs": [],
   "source": [
    "import math"
   ]
  },
  {
   "cell_type": "code",
   "execution_count": 11,
   "id": "d7d0e2d9-8d59-4522-a8c8-cca6f2d12672",
   "metadata": {},
   "outputs": [
    {
     "name": "stdout",
     "output_type": "stream",
     "text": [
      "27.0\n",
      "5.385164807134504\n"
     ]
    }
   ],
   "source": [
    "from math import sqrt\n",
    "x=math.pow(3, 3)\n",
    "print(x)\n",
    "\n",
    "y= sqrt(29)\n",
    "print(y)"
   ]
  },
  {
   "cell_type": "code",
   "execution_count": null,
   "id": "a05788c4-3b8a-42fe-85ec-8e205dd6c40e",
   "metadata": {},
   "outputs": [],
   "source": []
  }
 ],
 "metadata": {
  "kernelspec": {
   "display_name": "Python [conda env:base] *",
   "language": "python",
   "name": "conda-base-py"
  },
  "language_info": {
   "codemirror_mode": {
    "name": "ipython",
    "version": 3
   },
   "file_extension": ".py",
   "mimetype": "text/x-python",
   "name": "python",
   "nbconvert_exporter": "python",
   "pygments_lexer": "ipython3",
   "version": "3.12.7"
  }
 },
 "nbformat": 4,
 "nbformat_minor": 5
}
