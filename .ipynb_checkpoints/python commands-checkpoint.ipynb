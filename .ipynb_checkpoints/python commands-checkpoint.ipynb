{
 "cells": [
  {
   "cell_type": "code",
   "execution_count": 1,
   "id": "5ce617a8-e297-463b-9aba-c4fe2c1efd56",
   "metadata": {},
   "outputs": [
    {
     "ename": "NameError",
     "evalue": "name 'a' is not defined",
     "output_type": "error",
     "traceback": [
      "\u001b[1;31m---------------------------------------------------------------------------\u001b[0m",
      "\u001b[1;31mNameError\u001b[0m                                 Traceback (most recent call last)",
      "Cell \u001b[1;32mIn[1], line 1\u001b[0m\n\u001b[1;32m----> 1\u001b[0m \u001b[38;5;28mtype\u001b[39m(a)\n",
      "\u001b[1;31mNameError\u001b[0m: name 'a' is not defined"
     ]
    }
   ],
   "source": [
    "type(a)"
   ]
  },
  {
   "cell_type": "code",
   "execution_count": null,
   "id": "2cc7e219-2d09-4052-89fb-4ececcea406d",
   "metadata": {},
   "outputs": [],
   "source": [
    "a=10"
   ]
  },
  {
   "cell_type": "code",
   "execution_count": 2,
   "id": "1e32b877-aa3c-4b2a-bccf-2960d83112bc",
   "metadata": {},
   "outputs": [],
   "source": [
    "b=10.5"
   ]
  },
  {
   "cell_type": "code",
   "execution_count": 3,
   "id": "5732b511-e4ca-4f4e-a0f9-e82b207a9197",
   "metadata": {},
   "outputs": [
    {
     "data": {
      "text/plain": [
       "float"
      ]
     },
     "execution_count": 3,
     "metadata": {},
     "output_type": "execute_result"
    }
   ],
   "source": [
    "type(b)"
   ]
  },
  {
   "cell_type": "code",
   "execution_count": 4,
   "id": "3a13af59-50d5-413c-9d29-b6fd98a42615",
   "metadata": {},
   "outputs": [
    {
     "ename": "NameError",
     "evalue": "name 'a' is not defined",
     "output_type": "error",
     "traceback": [
      "\u001b[1;31m---------------------------------------------------------------------------\u001b[0m",
      "\u001b[1;31mNameError\u001b[0m                                 Traceback (most recent call last)",
      "Cell \u001b[1;32mIn[4], line 1\u001b[0m\n\u001b[1;32m----> 1\u001b[0m x\u001b[38;5;241m=\u001b[39m\u001b[38;5;28mfloat\u001b[39m(a)\n",
      "\u001b[1;31mNameError\u001b[0m: name 'a' is not defined"
     ]
    }
   ],
   "source": [
    "x=float(a)"
   ]
  },
  {
   "cell_type": "code",
   "execution_count": 5,
   "id": "08aac442-bd20-43eb-b2c8-4830b1b2e8c9",
   "metadata": {},
   "outputs": [],
   "source": [
    " y=int(b)"
   ]
  },
  {
   "cell_type": "code",
   "execution_count": 6,
   "id": "f4742279-793c-4717-a604-dd8239468d13",
   "metadata": {},
   "outputs": [],
   "source": [
    "c='Hello'"
   ]
  },
  {
   "cell_type": "code",
   "execution_count": 7,
   "id": "6349ec03-d07a-413d-be3e-6a2c1005c7e7",
   "metadata": {},
   "outputs": [
    {
     "data": {
      "text/plain": [
       "str"
      ]
     },
     "execution_count": 7,
     "metadata": {},
     "output_type": "execute_result"
    }
   ],
   "source": [
    "type(c)"
   ]
  },
  {
   "cell_type": "code",
   "execution_count": 8,
   "id": "4df51b31-ae18-45e5-90fb-655de1b655ba",
   "metadata": {},
   "outputs": [],
   "source": [
    "d = [\"red\",\"green\",\"blue\"]"
   ]
  },
  {
   "cell_type": "code",
   "execution_count": 9,
   "id": "40b038b6-d31b-4bb4-97c3-45f3e0ec82e1",
   "metadata": {},
   "outputs": [
    {
     "data": {
      "text/plain": [
       "list"
      ]
     },
     "execution_count": 9,
     "metadata": {},
     "output_type": "execute_result"
    }
   ],
   "source": [
    "type (d)"
   ]
  },
  {
   "cell_type": "code",
   "execution_count": 10,
   "id": "b346f201-a098-4c8d-8124-88442b7eaa0c",
   "metadata": {},
   "outputs": [],
   "source": [
    "e=True"
   ]
  },
  {
   "cell_type": "code",
   "execution_count": 11,
   "id": "f627770c-7cad-4afc-8ca2-b88c80a3b509",
   "metadata": {},
   "outputs": [
    {
     "data": {
      "text/plain": [
       "bool"
      ]
     },
     "execution_count": 11,
     "metadata": {},
     "output_type": "execute_result"
    }
   ],
   "source": [
    "type(e)"
   ]
  },
  {
   "cell_type": "code",
   "execution_count": 12,
   "id": "99ae36ae-404b-40f8-a943-213e6b7c9dea",
   "metadata": {},
   "outputs": [
    {
     "name": "stdout",
     "output_type": "stream",
     "text": [
      "my name is Jack\n"
     ]
    }
   ],
   "source": [
    "print(\"my name is Jack\")"
   ]
  },
  {
   "cell_type": "code",
   "execution_count": 3,
   "id": "7e5d4f4b-2fc6-4f1d-84e2-cffb6f91fd66",
   "metadata": {},
   "outputs": [],
   "source": [
    "c1,c2,c3='R','G','B'"
   ]
  },
  {
   "cell_type": "code",
   "execution_count": 4,
   "id": "cefac4fa-7801-4bdb-9dc3-af2ce7d3a85d",
   "metadata": {},
   "outputs": [
    {
     "name": "stdout",
     "output_type": "stream",
     "text": [
      "R\n"
     ]
    }
   ],
   "source": [
    "print(c1)"
   ]
  },
  {
   "cell_type": "code",
   "execution_count": 5,
   "id": "564b6b3f-c26a-413c-a23d-f282e70621b2",
   "metadata": {},
   "outputs": [
    {
     "name": "stdout",
     "output_type": "stream",
     "text": [
      "B R R G G B\n"
     ]
    }
   ],
   "source": [
    "print(c3,c1,c1,c2,c2,c3)"
   ]
  },
  {
   "cell_type": "code",
   "execution_count": 6,
   "id": "82c0c59a-0698-4cbb-92ec-51e337039e34",
   "metadata": {},
   "outputs": [],
   "source": [
    "str1 = \"my name\""
   ]
  },
  {
   "cell_type": "code",
   "execution_count": 8,
   "id": "0a1e7d9a-c6b5-4969-bf75-297e5ede8366",
   "metadata": {},
   "outputs": [],
   "source": [
    "flag1 = \"my\" in str1"
   ]
  },
  {
   "cell_type": "code",
   "execution_count": 9,
   "id": "ae351ea4-634f-4a56-b7b3-75084ade6c65",
   "metadata": {},
   "outputs": [
    {
     "name": "stdout",
     "output_type": "stream",
     "text": [
      "True\n"
     ]
    }
   ],
   "source": [
    "print(flag1)"
   ]
  },
  {
   "cell_type": "code",
   "execution_count": 10,
   "id": "fd9153f7-c757-49fe-b241-a9428d8a3942",
   "metadata": {},
   "outputs": [
    {
     "name": "stdout",
     "output_type": "stream",
     "text": [
      "False\n"
     ]
    }
   ],
   "source": [
    "print(\"David\" in str1)"
   ]
  },
  {
   "cell_type": "code",
   "execution_count": 11,
   "id": "2899a5b1-e542-4667-9aa7-bc29acbb2a62",
   "metadata": {},
   "outputs": [],
   "source": [
    " a = \"my name\""
   ]
  },
  {
   "cell_type": "code",
   "execution_count": 12,
   "id": "ee49d5d7-b4c7-4a7d-8a8d-76b371c1e0a6",
   "metadata": {},
   "outputs": [],
   "source": [
    "list = a.split(\" \")"
   ]
  },
  {
   "cell_type": "code",
   "execution_count": 13,
   "id": "677a21d5-59c5-4654-9d7e-03e902dd529b",
   "metadata": {},
   "outputs": [
    {
     "name": "stdout",
     "output_type": "stream",
     "text": [
      "['my', 'name']\n"
     ]
    }
   ],
   "source": [
    "print(list)"
   ]
  },
  {
   "cell_type": "code",
   "execution_count": 14,
   "id": "8c130e3f-db79-47d8-8eb1-472746378f22",
   "metadata": {},
   "outputs": [],
   "source": [
    "list = a.rfind(\"my\")"
   ]
  },
  {
   "cell_type": "code",
   "execution_count": 15,
   "id": "f3b9a50c-24a9-47fe-867f-7e7427a5b173",
   "metadata": {},
   "outputs": [],
   "source": [
    "name, person_id = \"jack\", \"M420247365\""
   ]
  },
  {
   "cell_type": "code",
   "execution_count": 16,
   "id": "e43585ef-2ba4-400d-80a7-50ef891600d6",
   "metadata": {},
   "outputs": [],
   "source": [
    "str1=f\"hi, {name}. Your ID Number is {person_id}\""
   ]
  },
  {
   "cell_type": "code",
   "execution_count": 17,
   "id": "ffb2bba5-b0dc-406b-84a6-99aefadc6e7a",
   "metadata": {},
   "outputs": [
    {
     "name": "stdout",
     "output_type": "stream",
     "text": [
      "hi, jack. Your ID Number is M420247365\n"
     ]
    }
   ],
   "source": [
    "print(str1)"
   ]
  },
  {
   "cell_type": "code",
   "execution_count": 18,
   "id": "8478acb1-32f4-41a2-9fea-3a112c922819",
   "metadata": {},
   "outputs": [
    {
     "name": "stdout",
     "output_type": "stream",
     "text": [
      "hi, jack. Your ID Number is M420247365\n"
     ]
    }
   ],
   "source": [
    "print(str1)"
   ]
  },
  {
   "cell_type": "code",
   "execution_count": 19,
   "id": "3d64e6d9-3a77-4a45-8db0-549e3b5c92b5",
   "metadata": {},
   "outputs": [
    {
     "name": "stdout",
     "output_type": "stream",
     "text": [
      "Hi, jack. Your ID Number is M420247365.. Have a Great Day!\n"
     ]
    }
   ],
   "source": [
    "print(f\"Hi, {name}. Your ID Number is {person_id}.. Have a Great Day!\")"
   ]
  },
  {
   "cell_type": "code",
   "execution_count": null,
   "id": "bf4d281e-3b74-44e2-a685-51910e264caf",
   "metadata": {},
   "outputs": [],
   "source": []
  }
 ],
 "metadata": {
  "kernelspec": {
   "display_name": "Python [conda env:base] *",
   "language": "python",
   "name": "conda-base-py"
  },
  "language_info": {
   "codemirror_mode": {
    "name": "ipython",
    "version": 3
   },
   "file_extension": ".py",
   "mimetype": "text/x-python",
   "name": "python",
   "nbconvert_exporter": "python",
   "pygments_lexer": "ipython3",
   "version": "3.12.7"
  }
 },
 "nbformat": 4,
 "nbformat_minor": 5
}
