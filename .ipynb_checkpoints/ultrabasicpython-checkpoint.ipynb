{
 "cells": [
  {
   "cell_type": "code",
   "execution_count": 1,
   "id": "6ca6fe9b-bbe6-4ec2-8449-c3b08155c7b7",
   "metadata": {
    "scrolled": true
   },
   "outputs": [
    {
     "name": "stdout",
     "output_type": "stream",
     "text": [
      "42\n"
     ]
    }
   ],
   "source": [
    "age = 42\n",
    "print(age)"
   ]
  },
  {
   "cell_type": "code",
   "execution_count": 3,
   "id": "32ca060c-565e-48bc-a801-93a5e76a1c3e",
   "metadata": {},
   "outputs": [
    {
     "name": "stdout",
     "output_type": "stream",
     "text": [
      "Jack Daniel\n"
     ]
    }
   ],
   "source": [
    "first_name = 'Jack'\n",
    "last_name = 'Daniel'\n",
    "print(first_name, last_name)"
   ]
  },
  {
   "cell_type": "code",
   "execution_count": 10,
   "id": "dbd7252d-d06c-41d1-80f0-0c77fc09887a",
   "metadata": {},
   "outputs": [
    {
     "name": "stdout",
     "output_type": "stream",
     "text": [
      "c\n"
     ]
    }
   ],
   "source": [
    "list = [1,2,3]\n",
    "nested_list = [[1,2,3],['a','b','c'],[True, False]]\n",
    "print(nested_list[1][2])"
   ]
  },
  {
   "cell_type": "code",
   "execution_count": 13,
   "id": "b6b100c6-d9e0-4638-ad00-69feb7638ecc",
   "metadata": {},
   "outputs": [
    {
     "name": "stdout",
     "output_type": "stream",
     "text": [
      "Jack Daniel\n"
     ]
    }
   ],
   "source": [
    "# combine variables\n",
    "full_name = first_name +' '+last_name\n",
    "print(full_name)"
   ]
  },
  {
   "cell_type": "code",
   "execution_count": 14,
   "id": "640f4b46-b631-480a-85a2-9972b2fb07ba",
   "metadata": {},
   "outputs": [
    {
     "name": "stdout",
     "output_type": "stream",
     "text": [
      "3\n"
     ]
    }
   ],
   "source": [
    "x,y,z,=1,2,3\n",
    "print(z)"
   ]
  },
  {
   "cell_type": "code",
   "execution_count": null,
   "id": "b8926596-c7bb-4864-a128-ecd25229f0fc",
   "metadata": {},
   "outputs": [],
   "source": []
  }
 ],
 "metadata": {
  "kernelspec": {
   "display_name": "Python [conda env:base] *",
   "language": "python",
   "name": "conda-base-py"
  },
  "language_info": {
   "codemirror_mode": {
    "name": "ipython",
    "version": 3
   },
   "file_extension": ".py",
   "mimetype": "text/x-python",
   "name": "python",
   "nbconvert_exporter": "python",
   "pygments_lexer": "ipython3",
   "version": "3.12.7"
  }
 },
 "nbformat": 4,
 "nbformat_minor": 5
}
