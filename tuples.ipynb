{
 "cells": [
  {
   "cell_type": "code",
   "execution_count": 12,
   "id": "b0334ab4-b0e1-4d76-90df-f8e6a3986b56",
   "metadata": {
    "scrolled": true
   },
   "outputs": [
    {
     "name": "stdout",
     "output_type": "stream",
     "text": [
      "This number is less than 10\n",
      "Yup\n"
     ]
    }
   ],
   "source": [
    "#conditionals\n",
    "number = 8\n",
    "if number > 10:\n",
    "    print('This number is greater than 10.')\n",
    "else:\n",
    "    print('This number is less than 10')\n",
    "\n",
    "if 10 < 100:\n",
    "    print('Yup')\n",
    "\n",
    "\n",
    "    #functions\n",
    "def fname(arg):\n",
    "    pass\n",
    "def name_printer(name):\n",
    "    print(name)\n",
    " "
   ]
  },
  {
   "cell_type": "code",
   "execution_count": 13,
   "id": "7bc82d2a-d72f-424d-8952-6ca88c54fdbb",
   "metadata": {},
   "outputs": [
    {
     "name": "stdout",
     "output_type": "stream",
     "text": [
      "Jack Daniel\n"
     ]
    }
   ],
   "source": [
    "name_printer('Jack Daniel')"
   ]
  },
  {
   "cell_type": "code",
   "execution_count": 14,
   "id": "e4f7e9cc-b1c5-4d70-b9a2-0e39806610b5",
   "metadata": {},
   "outputs": [
    {
     "name": "stdout",
     "output_type": "stream",
     "text": [
      "123\n"
     ]
    }
   ],
   "source": [
    "name_printer(123)"
   ]
  },
  {
   "cell_type": "code",
   "execution_count": 15,
   "id": "a01fd34b-b6e2-47c2-8330-dec22dada27c",
   "metadata": {},
   "outputs": [],
   "source": [
    "def id_printer(name,value):\n",
    "    print(name, value)"
   ]
  },
  {
   "cell_type": "code",
   "execution_count": 17,
   "id": "2733294d-9e94-4832-8757-36c0b079f186",
   "metadata": {},
   "outputs": [
    {
     "name": "stdout",
     "output_type": "stream",
     "text": [
      "Jack Daniel 247420365\n"
     ]
    }
   ],
   "source": [
    "id_printer('Jack Daniel', 247420365)"
   ]
  },
  {
   "cell_type": "code",
   "execution_count": 18,
   "id": "7de1a75b-86ce-44b3-93b9-527bea307f19",
   "metadata": {},
   "outputs": [],
   "source": [
    "# for loops"
   ]
  },
  {
   "cell_type": "code",
   "execution_count": 19,
   "id": "96c4cbec-25f9-4b12-8417-7fee4c85e7db",
   "metadata": {},
   "outputs": [
    {
     "name": "stdout",
     "output_type": "stream",
     "text": [
      "VALUE:  1\n",
      "VALUE:  2\n",
      "VALUE:  3\n",
      "VALUE:  4\n",
      "VALUE:  5\n"
     ]
    }
   ],
   "source": [
    "for i in [1,2,3,4,5]:\n",
    "    print(\"VALUE: \", i)"
   ]
  },
  {
   "cell_type": "code",
   "execution_count": 20,
   "id": "69b4996b-5424-46f4-838f-8be9be9e9fba",
   "metadata": {},
   "outputs": [
    {
     "name": "stdout",
     "output_type": "stream",
     "text": [
      "VALUE:  0\n",
      "VALUE:  1\n",
      "VALUE:  2\n",
      "VALUE:  3\n",
      "VALUE:  4\n",
      "VALUE:  5\n",
      "VALUE:  6\n",
      "VALUE:  7\n",
      "VALUE:  8\n",
      "VALUE:  9\n",
      "VALUE:  10\n",
      "VALUE:  11\n",
      "VALUE:  12\n",
      "VALUE:  13\n",
      "VALUE:  14\n",
      "VALUE:  15\n",
      "VALUE:  16\n",
      "VALUE:  17\n",
      "VALUE:  18\n",
      "VALUE:  19\n"
     ]
    }
   ],
   "source": [
    "for i in range(20):\n",
    "    print(\"VALUE: \", i)"
   ]
  },
  {
   "cell_type": "code",
   "execution_count": 21,
   "id": "eb378373-f387-4482-9c8f-a773cf24f432",
   "metadata": {},
   "outputs": [
    {
     "name": "stdout",
     "output_type": "stream",
     "text": [
      "x is still greater than 0\n",
      "x is still greater than 0\n",
      "x is still greater than 0\n",
      "x is still greater than 0\n",
      "x is still greater than 0\n",
      "x is still greater than 0\n",
      "x is still greater than 0\n",
      "x is still greater than 0\n",
      "x is still greater than 0\n",
      "x is still greater than 0\n"
     ]
    }
   ],
   "source": [
    "#while loops\n",
    "x=10\n",
    "while x > 0:\n",
    "    print('x is still greater than 0')\n",
    "    x = x-1"
   ]
  },
  {
   "cell_type": "code",
   "execution_count": 25,
   "id": "8650c5eb-c01a-4452-83f6-d1a36a9af0e5",
   "metadata": {},
   "outputs": [
    {
     "name": "stdout",
     "output_type": "stream",
     "text": [
      "jimbob daniel\n"
     ]
    }
   ],
   "source": [
    "#tuples\n",
    "\n",
    "array = ['jack','daniel']\n",
    "array[0]='jimbob'\n",
    "\n",
    "print(array[0]+\" \"+array[1])"
   ]
  },
  {
   "cell_type": "code",
   "execution_count": 33,
   "id": "74aee25c-ca84-4f4d-91ee-691f862fac43",
   "metadata": {},
   "outputs": [
    {
     "name": "stdout",
     "output_type": "stream",
     "text": [
      "['cheese', 'kombucha']\n",
      "['eggs', 'milk', 'cheese']\n",
      "['kombucha', 'coffee', 'alligator jerky']\n",
      "coffee\n"
     ]
    }
   ],
   "source": [
    "groceryArray = ['eggs','milk','cheese','kombucha','coffee','alligator jerky']\n",
    "listSlice=groceryArray[2:4]\n",
    "slice_up_to_3=groceryArray[:3]\n",
    "slice_from_3=groceryArray[3:]\n",
    "slice_2nd_from_end=groceryArray[-2]\n",
    "\n",
    "\n",
    "print(listSlice)\n",
    "print(slice_up_to_3)\n",
    "print(slice_from_3)\n",
    "print(slice_2nd_from_end)"
   ]
  },
  {
   "cell_type": "code",
   "execution_count": 42,
   "id": "812dfd66-4d39-40ef-8ad4-1191185452ce",
   "metadata": {},
   "outputs": [
    {
     "name": "stdout",
     "output_type": "stream",
     "text": [
      "PLOT THIS POINT:  3 , -1\n"
     ]
    }
   ],
   "source": [
    "#tuples the teacher ,messed up and i figured it out on my own\n",
    "(x_values, y_values)= ([1,2,3],[-1,-2,-3,])\n",
    "print('PLOT THIS POINT: ', x_values[2]  ,\",\" ,y_values[0])"
   ]
  },
  {
   "cell_type": "code",
   "execution_count": 45,
   "id": "bd92a423-4b46-4ced-ac6d-bece2643300e",
   "metadata": {},
   "outputs": [
    {
     "name": "stdout",
     "output_type": "stream",
     "text": [
      "[1, 2, 3]\n"
     ]
    }
   ],
   "source": [
    "tuple = (x_values,y_values)\n",
    "print(tuple[0])"
   ]
  },
  {
   "cell_type": "code",
   "execution_count": 46,
   "id": "f1f89499-7d9d-45c0-8be8-ec128877fd9b",
   "metadata": {},
   "outputs": [
    {
     "name": "stdout",
     "output_type": "stream",
     "text": [
      "2\n"
     ]
    }
   ],
   "source": [
    "tuple = (x_values,y_values)\n",
    "print(tuple[0][1])"
   ]
  },
  {
   "cell_type": "code",
   "execution_count": 47,
   "id": "aa56f2e6-28e5-449a-9751-7f3fa3dfedec",
   "metadata": {},
   "outputs": [
    {
     "name": "stdout",
     "output_type": "stream",
     "text": [
      "([1, 2, 3], [-1, -2, -3])\n"
     ]
    }
   ],
   "source": [
    "tuple = (x_values,y_values)\n",
    "print(tuple[0:])"
   ]
  },
  {
   "cell_type": "code",
   "execution_count": 49,
   "id": "355dc508-cbdf-44fd-978a-4c74556a82c5",
   "metadata": {},
   "outputs": [
    {
     "name": "stdout",
     "output_type": "stream",
     "text": [
      "([1, 2, 3], [-1, -2, -3])\n"
     ]
    }
   ],
   "source": [
    "tuple = (x_values,y_values)\n",
    "print(tuple[:2])"
   ]
  },
  {
   "cell_type": "code",
   "execution_count": 50,
   "id": "cb3c881a-4710-4613-ac43-781cb62600f6",
   "metadata": {},
   "outputs": [
    {
     "name": "stdout",
     "output_type": "stream",
     "text": [
      "([1, 2, 3],)\n"
     ]
    }
   ],
   "source": [
    "tuple = (x_values,y_values)\n",
    "print(tuple[:1])"
   ]
  },
  {
   "cell_type": "code",
   "execution_count": null,
   "id": "f1b27887-4c57-4ead-94a7-c2fac1c422e1",
   "metadata": {},
   "outputs": [],
   "source": []
  }
 ],
 "metadata": {
  "kernelspec": {
   "display_name": "Python [conda env:base] *",
   "language": "python",
   "name": "conda-base-py"
  },
  "language_info": {
   "codemirror_mode": {
    "name": "ipython",
    "version": 3
   },
   "file_extension": ".py",
   "mimetype": "text/x-python",
   "name": "python",
   "nbconvert_exporter": "python",
   "pygments_lexer": "ipython3",
   "version": "3.12.3"
  }
 },
 "nbformat": 4,
 "nbformat_minor": 5
}
