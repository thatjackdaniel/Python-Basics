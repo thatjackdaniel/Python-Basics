{
 "cells": [
  {
   "cell_type": "code",
   "execution_count": 33,
   "id": "42d15290-ef4c-4362-b0da-351a9d5e36a3",
   "metadata": {},
   "outputs": [
    {
     "name": "stdout",
     "output_type": "stream",
     "text": [
      "[[1 2]\n",
      " [6 8]]\n",
      "(2, 2)\n",
      "[[1 2]\n",
      " [3 4]\n",
      " [6 8]]\n",
      "[1 2 6 8 3 4]\n",
      "[1 2 6 8 3 4 1 2]\n",
      "[[6 8]]\n"
     ]
    }
   ],
   "source": [
    "import numpy as np\n",
    "\n",
    "np_arr = np.array([[1,2],[6,8]])\n",
    "print(np_arr)\n",
    "print(np_arr.shape)\n",
    "\n",
    "np_arr_insert= np.insert(arr=np_arr, obj=1, values=[3,4], axis=0)\n",
    "print(np_arr_insert)\n",
    "\n",
    "np_arr_append = np.append(arr=np_arr,values=[3,4])\n",
    "print(np_arr_append)\n",
    "\n",
    "np_arr_append = np.append(arr=np_arr,values=[[3,4],[1,2]])\n",
    "print(np_arr_append)\n",
    "\n",
    "np_arr_delete = np.delete(arr=np_arr,obj=0,axis=0)\n",
    "print(np_arr_delete)"
   ]
  },
  {
   "cell_type": "code",
   "execution_count": 27,
   "id": "1878c033-bde1-470a-bb12-df489cbdabca",
   "metadata": {},
   "outputs": [
    {
     "name": "stdout",
     "output_type": "stream",
     "text": [
      "[[False False]\n",
      " [ True  True]]\n"
     ]
    }
   ],
   "source": [
    "print(np_arr>2)"
   ]
  },
  {
   "cell_type": "code",
   "execution_count": 61,
   "id": "5abfa019-9196-488f-b2a8-35e15c5b3539",
   "metadata": {},
   "outputs": [
    {
     "name": "stdout",
     "output_type": "stream",
     "text": [
      "[ 5  4  6  4 10]\n",
      "[[False  True False]\n",
      " [ True False  True]\n",
      " [False  True  True]]\n"
     ]
    }
   ],
   "source": [
    "np_arr = np.array([[1,5,2],[4,1,6],[2,4,10]])\n",
    "np_cond = np_arr[np_arr>3]\n",
    "print(np_cond)\n",
    "print(np_arr>3)"
   ]
  },
  {
   "cell_type": "code",
   "execution_count": null,
   "id": "d2baffb8-0987-4340-b524-bec6b0395de5",
   "metadata": {},
   "outputs": [],
   "source": []
  }
 ],
 "metadata": {
  "kernelspec": {
   "display_name": "Python [conda env:base] *",
   "language": "python",
   "name": "conda-base-py"
  },
  "language_info": {
   "codemirror_mode": {
    "name": "ipython",
    "version": 3
   },
   "file_extension": ".py",
   "mimetype": "text/x-python",
   "name": "python",
   "nbconvert_exporter": "python",
   "pygments_lexer": "ipython3",
   "version": "3.12.3"
  }
 },
 "nbformat": 4,
 "nbformat_minor": 5
}
