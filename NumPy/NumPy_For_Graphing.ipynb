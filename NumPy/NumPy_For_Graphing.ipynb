{
 "cells": [
  {
   "cell_type": "markdown",
   "id": "ee577792-f820-44c2-9e5f-ad5aecf11d3d",
   "metadata": {},
   "source": [
    "## NumPy for matplotlib & Seaborn\n",
    "### ndarray - n-dimensional array, data structure"
   ]
  },
  {
   "cell_type": "code",
   "execution_count": 4,
   "id": "d142c5af-ef08-4e74-a212-dd2cf84ec449",
   "metadata": {},
   "outputs": [
    {
     "name": "stdout",
     "output_type": "stream",
     "text": [
      "[[ 0  1  2  3  4]\n",
      " [ 5  6  7  8  9]\n",
      " [10 11 12 13 14]\n",
      " [15 16 17 18 19]]\n"
     ]
    }
   ],
   "source": [
    "import numpy as np\n",
    "a = np.arange(20).reshape(4,5)\n",
    "print(a)"
   ]
  },
  {
   "cell_type": "code",
   "execution_count": 6,
   "id": "0e9b8d42-f7fa-4e35-bbbd-6438f92e856a",
   "metadata": {},
   "outputs": [
    {
     "data": {
      "text/plain": [
       "array([0, 1, 2, 3, 4])"
      ]
     },
     "execution_count": 6,
     "metadata": {},
     "output_type": "execute_result"
    }
   ],
   "source": [
    "a[0]"
   ]
  },
  {
   "cell_type": "code",
   "execution_count": 8,
   "id": "9ec5df95-3844-4ee9-9948-71fe68d4a8b3",
   "metadata": {},
   "outputs": [
    {
     "data": {
      "text/plain": [
       "np.int64(19)"
      ]
     },
     "execution_count": 8,
     "metadata": {},
     "output_type": "execute_result"
    }
   ],
   "source": [
    "a[3][4]"
   ]
  },
  {
   "cell_type": "code",
   "execution_count": 10,
   "id": "fc230542-f300-43f3-99f4-49ddbd2665de",
   "metadata": {},
   "outputs": [
    {
     "data": {
      "text/plain": [
       "2"
      ]
     },
     "execution_count": 10,
     "metadata": {},
     "output_type": "execute_result"
    }
   ],
   "source": [
    "a.ndim"
   ]
  },
  {
   "cell_type": "code",
   "execution_count": 12,
   "id": "2b4b3290-73b6-4203-b82a-695517661105",
   "metadata": {},
   "outputs": [
    {
     "data": {
      "text/plain": [
       "dtype('int64')"
      ]
     },
     "execution_count": 12,
     "metadata": {},
     "output_type": "execute_result"
    }
   ],
   "source": [
    "a.dtype"
   ]
  },
  {
   "cell_type": "code",
   "execution_count": 14,
   "id": "6071fe8f-b9d9-4522-8a70-97d63631c2a1",
   "metadata": {},
   "outputs": [
    {
     "data": {
      "text/plain": [
       "20"
      ]
     },
     "execution_count": 14,
     "metadata": {},
     "output_type": "execute_result"
    }
   ],
   "source": [
    "a.size"
   ]
  },
  {
   "cell_type": "code",
   "execution_count": 20,
   "id": "3029f5e2-29af-46d8-8eb4-8ba8f42fcc60",
   "metadata": {},
   "outputs": [
    {
     "data": {
      "text/plain": [
       "(4, 5)"
      ]
     },
     "execution_count": 20,
     "metadata": {},
     "output_type": "execute_result"
    }
   ],
   "source": [
    "a.shape # i.e. in this example (4, 5) is four rows with 5 integers"
   ]
  },
  {
   "cell_type": "code",
   "execution_count": 22,
   "id": "0abac73d-8784-4bd3-b7a7-36e0459feba0",
   "metadata": {},
   "outputs": [
    {
     "name": "stdout",
     "output_type": "stream",
     "text": [
      "[1 2 3]\n"
     ]
    }
   ],
   "source": [
    "a = np.array([1,2,3])\n",
    "print(a)"
   ]
  },
  {
   "cell_type": "code",
   "execution_count": 26,
   "id": "e202276d-a89b-40b1-a2c1-8c0e9aad6187",
   "metadata": {},
   "outputs": [
    {
     "name": "stdout",
     "output_type": "stream",
     "text": [
      "[[1 2 3]\n",
      " [4 5 6]]\n"
     ]
    }
   ],
   "source": [
    "b = np.array([(1,2,3),(4,5,6)])\n",
    "print(b)"
   ]
  },
  {
   "cell_type": "code",
   "execution_count": 28,
   "id": "adc49eeb-bc9d-4641-b05f-203ca3aa6af3",
   "metadata": {},
   "outputs": [
    {
     "name": "stdout",
     "output_type": "stream",
     "text": [
      "[ 1  3  5  7  9 11 13 15 17 19]\n"
     ]
    }
   ],
   "source": [
    "c= np.arange(1,20,2)\n",
    "print(c)"
   ]
  },
  {
   "cell_type": "code",
   "execution_count": 32,
   "id": "8afe87a1-8da8-44b5-bbf9-0dab657212cd",
   "metadata": {},
   "outputs": [
    {
     "name": "stdout",
     "output_type": "stream",
     "text": [
      "[ 0.          0.2020202   0.4040404   0.60606061  0.80808081  1.01010101\n",
      "  1.21212121  1.41414141  1.61616162  1.81818182  2.02020202  2.22222222\n",
      "  2.42424242  2.62626263  2.82828283  3.03030303  3.23232323  3.43434343\n",
      "  3.63636364  3.83838384  4.04040404  4.24242424  4.44444444  4.64646465\n",
      "  4.84848485  5.05050505  5.25252525  5.45454545  5.65656566  5.85858586\n",
      "  6.06060606  6.26262626  6.46464646  6.66666667  6.86868687  7.07070707\n",
      "  7.27272727  7.47474747  7.67676768  7.87878788  8.08080808  8.28282828\n",
      "  8.48484848  8.68686869  8.88888889  9.09090909  9.29292929  9.49494949\n",
      "  9.6969697   9.8989899  10.1010101  10.3030303  10.50505051 10.70707071\n",
      " 10.90909091 11.11111111 11.31313131 11.51515152 11.71717172 11.91919192\n",
      " 12.12121212 12.32323232 12.52525253 12.72727273 12.92929293 13.13131313\n",
      " 13.33333333 13.53535354 13.73737374 13.93939394 14.14141414 14.34343434\n",
      " 14.54545455 14.74747475 14.94949495 15.15151515 15.35353535 15.55555556\n",
      " 15.75757576 15.95959596 16.16161616 16.36363636 16.56565657 16.76767677\n",
      " 16.96969697 17.17171717 17.37373737 17.57575758 17.77777778 17.97979798\n",
      " 18.18181818 18.38383838 18.58585859 18.78787879 18.98989899 19.19191919\n",
      " 19.39393939 19.5959596  19.7979798  20.        ]\n"
     ]
    }
   ],
   "source": [
    "d = np.linspace(0,20,100)\n",
    "print(d)"
   ]
  },
  {
   "cell_type": "code",
   "execution_count": 34,
   "id": "b26d8c64-29eb-486f-9342-bfc64518569b",
   "metadata": {},
   "outputs": [
    {
     "name": "stdout",
     "output_type": "stream",
     "text": [
      "[[ 0.          0.2020202   0.4040404   0.60606061  0.80808081  1.01010101\n",
      "   1.21212121  1.41414141  1.61616162  1.81818182]\n",
      " [ 2.02020202  2.22222222  2.42424242  2.62626263  2.82828283  3.03030303\n",
      "   3.23232323  3.43434343  3.63636364  3.83838384]\n",
      " [ 4.04040404  4.24242424  4.44444444  4.64646465  4.84848485  5.05050505\n",
      "   5.25252525  5.45454545  5.65656566  5.85858586]\n",
      " [ 6.06060606  6.26262626  6.46464646  6.66666667  6.86868687  7.07070707\n",
      "   7.27272727  7.47474747  7.67676768  7.87878788]\n",
      " [ 8.08080808  8.28282828  8.48484848  8.68686869  8.88888889  9.09090909\n",
      "   9.29292929  9.49494949  9.6969697   9.8989899 ]\n",
      " [10.1010101  10.3030303  10.50505051 10.70707071 10.90909091 11.11111111\n",
      "  11.31313131 11.51515152 11.71717172 11.91919192]\n",
      " [12.12121212 12.32323232 12.52525253 12.72727273 12.92929293 13.13131313\n",
      "  13.33333333 13.53535354 13.73737374 13.93939394]\n",
      " [14.14141414 14.34343434 14.54545455 14.74747475 14.94949495 15.15151515\n",
      "  15.35353535 15.55555556 15.75757576 15.95959596]\n",
      " [16.16161616 16.36363636 16.56565657 16.76767677 16.96969697 17.17171717\n",
      "  17.37373737 17.57575758 17.77777778 17.97979798]\n",
      " [18.18181818 18.38383838 18.58585859 18.78787879 18.98989899 19.19191919\n",
      "  19.39393939 19.5959596  19.7979798  20.        ]]\n"
     ]
    }
   ],
   "source": [
    "d = np.linspace(0,20,100).reshape(10,10)\n",
    "print(d)"
   ]
  },
  {
   "cell_type": "code",
   "execution_count": 36,
   "id": "df4f7717-f474-42b5-93f5-9dad99c0874f",
   "metadata": {},
   "outputs": [
    {
     "name": "stdout",
     "output_type": "stream",
     "text": [
      "[[0.33486483 0.61658394 0.57186178 0.73440817]\n",
      " [0.70171993 0.61155588 0.41745077 0.14249104]\n",
      " [0.14772412 0.36194021 0.44050564 0.30830793]\n",
      " [0.18508402 0.68992787 0.00685153 0.13737047]]\n"
     ]
    }
   ],
   "source": [
    "e = np.random.rand(4,4)\n",
    "print(e)"
   ]
  },
  {
   "cell_type": "code",
   "execution_count": null,
   "id": "ec1ab9ad-f233-41c6-82e6-0f5edaa1a202",
   "metadata": {},
   "outputs": [],
   "source": []
  }
 ],
 "metadata": {
  "kernelspec": {
   "display_name": "Python [conda env:mnist_env]",
   "language": "python",
   "name": "conda-env-mnist_env-py"
  },
  "language_info": {
   "codemirror_mode": {
    "name": "ipython",
    "version": 3
   },
   "file_extension": ".py",
   "mimetype": "text/x-python",
   "name": "python",
   "nbconvert_exporter": "python",
   "pygments_lexer": "ipython3",
   "version": "3.9.21"
  }
 },
 "nbformat": 4,
 "nbformat_minor": 5
}
